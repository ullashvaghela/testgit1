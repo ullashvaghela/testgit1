{
 "cells": [
  {
   "cell_type": "code",
   "execution_count": 1,
   "metadata": {},
   "outputs": [],
   "source": [
    "def a_sort(a):\n",
    "    return a[1]"
   ]
  },
  {
   "cell_type": "code",
   "execution_count": 5,
   "metadata": {},
   "outputs": [
    {
     "name": "stdout",
     "output_type": "stream",
     "text": [
      "[[5, 1], [52, 8], [65, 3]]\n"
     ]
    }
   ],
   "source": [
    "a = [[65,3],[5,1],[52,8]]\n",
    "a.sort()\n",
    "print(a)"
   ]
  },
  {
   "cell_type": "code",
   "execution_count": 8,
   "metadata": {},
   "outputs": [
    {
     "name": "stdout",
     "output_type": "stream",
     "text": [
      "[[5, 1], [65, 3], [52, 8]]\n"
     ]
    }
   ],
   "source": [
    "a.sort(key=a_sort)\n",
    "print(a)"
   ]
  },
  {
   "cell_type": "code",
   "execution_count": 11,
   "metadata": {},
   "outputs": [
    {
     "name": "stdout",
     "output_type": "stream",
     "text": [
      "[[5, 1], [65, 3], [52, 8]]\n"
     ]
    }
   ],
   "source": [
    "a.sort(key=lambda x:x[1])\n",
    "print(a)"
   ]
  },
  {
   "cell_type": "markdown",
   "metadata": {},
   "source": [
    "Args and Kwargs"
   ]
  },
  {
   "cell_type": "code",
   "execution_count": 12,
   "metadata": {},
   "outputs": [
    {
     "name": "stdout",
     "output_type": "stream",
     "text": [
      "ullash b vaghela\n"
     ]
    }
   ],
   "source": [
    "def function_name_print(a,b,c):\n",
    "    print(a,b,c)\n",
    "\n",
    "function_name_print('ullash','b','vaghela')"
   ]
  },
  {
   "cell_type": "code",
   "execution_count": 15,
   "metadata": {},
   "outputs": [
    {
     "name": "stdout",
     "output_type": "stream",
     "text": [
      "(['Ullash', 'B', 'Vaghela'],)\n"
     ]
    }
   ],
   "source": [
    "def function_name_print(*args):\n",
    "    print(args)\n",
    "\n",
    "name = ['Ullash','B','Vaghela']\n",
    "function_name_print(name)"
   ]
  },
  {
   "cell_type": "code",
   "execution_count": 17,
   "metadata": {},
   "outputs": [
    {
     "name": "stdout",
     "output_type": "stream",
     "text": [
      "Ullash\n",
      "B\n",
      "Vaghela\n"
     ]
    }
   ],
   "source": [
    "def function_name_print(*args):\n",
    "    for item in args:\n",
    "        print(item)\n",
    "\n",
    "name = ['Ullash','B','Vaghela']\n",
    "function_name_print(*name)"
   ]
  },
  {
   "cell_type": "code",
   "execution_count": 31,
   "metadata": {},
   "outputs": [
    {
     "name": "stdout",
     "output_type": "stream",
     "text": [
      "1 Ullash\n",
      "2 B\n",
      "3 Vaghela\n",
      "4 a\n",
      "5 b\n",
      "6 c\n"
     ]
    }
   ],
   "source": [
    "def function_name_print(*args):\n",
    "    i=1\n",
    "    for item in args:\n",
    "        print(i,item)\n",
    "        i+=1\n",
    "\n",
    "name = ['Ullash','B','Vaghela','a','b','c']\n",
    "function_name_print(*name)"
   ]
  },
  {
   "cell_type": "code",
   "execution_count": 32,
   "metadata": {},
   "outputs": [
    {
     "name": "stdout",
     "output_type": "stream",
     "text": [
      "25\n",
      "Ullash\n",
      "B\n",
      "Vaghela\n",
      "a\n",
      "b\n",
      "c\n"
     ]
    }
   ],
   "source": [
    "def function_name_print(normal,*args):\n",
    "    print(normal)\n",
    "    for item in args:\n",
    "        print(item)\n",
    "\n",
    "name = ['Ullash','B','Vaghela','a','b','c']\n",
    "normal_args = 25\n",
    "function_name_print(normal_args,*name)"
   ]
  },
  {
   "cell_type": "code",
   "execution_count": 39,
   "metadata": {},
   "outputs": [
    {
     "name": "stdout",
     "output_type": "stream",
     "text": [
      "This is Normal Arguments\n",
      "a\n",
      "b\n",
      "c\n",
      "a value is 1\n",
      "b value is v\n",
      "c value is 2\n"
     ]
    }
   ],
   "source": [
    "def fun_name(normal,*args,**kwargs):\n",
    "    print(normal)\n",
    "    for item in args:\n",
    "        print(item)\n",
    "    for key,value in kwargs.items():\n",
    "        print(f'{key} value is {value}')\n",
    "    \n",
    "normal  = \"This is Normal Arguments\"\n",
    "args_nm = ['a','b','c']\n",
    "kw_dict = {'a':1,'b':'v','c':2}\n",
    "\n",
    "fun_name(normal,*args_nm,**kw_dict)"
   ]
  },
  {
   "cell_type": "markdown",
   "metadata": {},
   "source": [
    "<h1>time and Date</h1>"
   ]
  },
  {
   "cell_type": "code",
   "execution_count": 40,
   "metadata": {},
   "outputs": [],
   "source": [
    "import time"
   ]
  },
  {
   "cell_type": "code",
   "execution_count": 47,
   "metadata": {},
   "outputs": [
    {
     "name": "stdout",
     "output_type": "stream",
     "text": [
      "This is Ullash\n",
      "This is Ullash\n",
      "This is Ullash\n",
      "This is Ullash\n",
      "This is Ullash\n",
      "This is Ullash\n",
      "This is Ullash\n",
      "This is Ullash\n",
      "This is Ullash\n",
      "This is Ullash\n",
      "This is Ullash\n",
      "This is Ullash\n",
      "This is Ullash\n",
      "This is Ullash\n",
      "This is Ullash\n",
      "This is Ullash\n",
      "This is Ullash\n",
      "This is Ullash\n",
      "This is Ullash\n",
      "This is Ullash\n",
      "This is Ullash\n",
      "This is Ullash\n",
      "This is Ullash\n",
      "This is Ullash\n",
      "This is Ullash\n",
      "This is Ullash\n",
      "This is Ullash\n",
      "This is Ullash\n",
      "This is Ullash\n",
      "This is Ullash\n",
      "This is Ullash\n",
      "This is Ullash\n",
      "This is Ullash\n",
      "This is Ullash\n",
      "This is Ullash\n",
      "This is Ullash\n",
      "This is Ullash\n",
      "This is Ullash\n",
      "This is Ullash\n",
      "This is Ullash\n",
      "This is Ullash\n",
      "This is Ullash\n",
      "This is Ullash\n",
      "This is Ullash\n",
      "This is Ullash\n",
      "0.002501249313354492\n",
      "This is Ullash\n",
      "This is Ullash\n",
      "This is Ullash\n",
      "This is Ullash\n",
      "This is Ullash\n",
      "This is Ullash\n",
      "This is Ullash\n",
      "This is Ullash\n",
      "This is Ullash\n",
      "This is Ullash\n",
      "This is Ullash\n",
      "This is Ullash\n",
      "This is Ullash\n",
      "This is Ullash\n",
      "This is Ullash\n",
      "This is Ullash\n",
      "This is Ullash\n",
      "This is Ullash\n",
      "This is Ullash\n",
      "This is Ullash\n",
      "This is Ullash\n",
      "This is Ullash\n",
      "This is Ullash\n",
      "This is Ullash\n",
      "This is Ullash\n",
      "This is Ullash\n",
      "This is Ullash\n",
      "This is Ullash\n",
      "This is Ullash\n",
      "This is Ullash\n",
      "This is Ullash\n",
      "This is Ullash\n",
      "This is Ullash\n",
      "This is Ullash\n",
      "This is Ullash\n",
      "This is Ullash\n",
      "This is Ullash\n",
      "This is Ullash\n",
      "This is Ullash\n",
      "This is Ullash\n",
      "This is Ullash\n",
      "This is Ullash\n",
      "This is Ullash\n",
      "This is Ullash\n",
      "This is Ullash\n",
      "0.0015017986297607422\n"
     ]
    }
   ],
   "source": [
    "init1 = time.time()\n",
    "k=0\n",
    "while(k<45):\n",
    "    print(\"This is Ullash\")\n",
    "    k+=1\n",
    "print(time.time()-init1)\n",
    "\n",
    "init2 = time.time()\n",
    "for i in range(45):\n",
    "    print(\"This is Ullash\")\n",
    "print(time.time()-init2)"
   ]
  },
  {
   "cell_type": "code",
   "execution_count": 50,
   "metadata": {},
   "outputs": [
    {
     "name": "stdout",
     "output_type": "stream",
     "text": [
      "time.struct_time(tm_year=2019, tm_mon=12, tm_mday=25, tm_hour=13, tm_min=49, tm_sec=21, tm_wday=2, tm_yday=359, tm_isdst=0)\n"
     ]
    }
   ],
   "source": [
    "timenow = time.localtime(time.time())\n",
    "print(timenow)"
   ]
  },
  {
   "cell_type": "code",
   "execution_count": 51,
   "metadata": {},
   "outputs": [
    {
     "data": {
      "text/plain": [
       "time.struct_time(tm_year=2019, tm_mon=12, tm_mday=25, tm_hour=8, tm_min=21, tm_sec=2, tm_wday=2, tm_yday=359, tm_isdst=0)"
      ]
     },
     "execution_count": 51,
     "metadata": {},
     "output_type": "execute_result"
    }
   ],
   "source": [
    "time.gmtime()"
   ]
  },
  {
   "cell_type": "code",
   "execution_count": 57,
   "metadata": {},
   "outputs": [
    {
     "name": "stdout",
     "output_type": "stream",
     "text": [
      "Wed Dec 25 08:46:10 2019\n",
      "Wed Dec 25 14:16:10 2019\n"
     ]
    }
   ],
   "source": [
    "timenow1 = time.asctime(time.gmtime()) # Server Time\n",
    "print(timenow1)\n",
    "timenow2 = time.asctime(time.localtime(time.time())) # Local Time\n",
    "print(timenow2)"
   ]
  },
  {
   "cell_type": "code",
   "execution_count": 58,
   "metadata": {},
   "outputs": [],
   "source": [
    "time.sleep(2)"
   ]
  },
  {
   "cell_type": "code",
   "execution_count": 60,
   "metadata": {},
   "outputs": [
    {
     "name": "stdout",
     "output_type": "stream",
     "text": [
      "1  = Time Sleep\n",
      "2  = Time Sleep\n",
      "3  = Time Sleep\n"
     ]
    }
   ],
   "source": [
    "k=1\n",
    "while(k<4):\n",
    "    print(k,' = Time Sleep')\n",
    "    time.sleep(2)\n",
    "    k+=1"
   ]
  },
  {
   "cell_type": "markdown",
   "metadata": {},
   "source": [
    "<h1>Enumerate</h1>"
   ]
  },
  {
   "cell_type": "code",
   "execution_count": 72,
   "metadata": {},
   "outputs": [
    {
     "name": "stdout",
     "output_type": "stream",
     "text": [
      "0 T\n",
      "2 i\n",
      "4  \n",
      "6 s\n",
      "8 P\n",
      "10 t\n",
      "12 o\n",
      "14  \n",
      "16 t\n",
      "18 i\n",
      "20 g\n"
     ]
    }
   ],
   "source": [
    "#l1 = ['a','b','c','d']\n",
    "l1 = \"This is Python String\"\n",
    "for index,item in enumerate(l1):\n",
    "    if index%2==0:\n",
    "        print(index,item)\n"
   ]
  },
  {
   "cell_type": "markdown",
   "metadata": {},
   "source": [
    "<h1>Join </h1>"
   ]
  },
  {
   "cell_type": "code",
   "execution_count": 78,
   "metadata": {},
   "outputs": [
    {
     "name": "stdout",
     "output_type": "stream",
     "text": [
      "a\n",
      "b\n",
      "c\n",
      "d\n",
      "<class 'str'>\n"
     ]
    }
   ],
   "source": [
    "lis = ['a','b','c','d']\n",
    "for item in lis:\n",
    "    print(item)\n",
    "a = ','.join(lis)\n",
    "print(type(a))"
   ]
  },
  {
   "cell_type": "markdown",
   "metadata": {},
   "source": [
    "<h1>Map</h1>"
   ]
  },
  {
   "cell_type": "code",
   "execution_count": 104,
   "metadata": {},
   "outputs": [
    {
     "name": "stdout",
     "output_type": "stream",
     "text": [
      "12\n",
      "32\n",
      "23\n",
      "33\n"
     ]
    }
   ],
   "source": [
    "numbers = ['12','32','23']\n",
    "for item in numbers:\n",
    "    nm = int(item)\n",
    "    print(nm)\n",
    "\n",
    "for i in range(len(numbers)):\n",
    "    numbers[i] = int(numbers[i])\n",
    "numbers[1] = numbers[1]+1\n",
    "print(numbers[1])"
   ]
  },
  {
   "cell_type": "code",
   "execution_count": 107,
   "metadata": {},
   "outputs": [],
   "source": [
    "numbers = ['12','32','23']\n",
    "nm = list(map(int, numbers))\n",
    "nm[1] = nm[1]+1"
   ]
  },
  {
   "cell_type": "code",
   "execution_count": 109,
   "metadata": {},
   "outputs": [
    {
     "name": "stdout",
     "output_type": "stream",
     "text": [
      "33\n"
     ]
    }
   ],
   "source": [
    "print(nm[1])"
   ]
  },
  {
   "cell_type": "code",
   "execution_count": 111,
   "metadata": {},
   "outputs": [
    {
     "name": "stdout",
     "output_type": "stream",
     "text": [
      "[4, 25, 3969, 20720704, 309136]\n"
     ]
    }
   ],
   "source": [
    "num = [2,5,63,4552,556]\n",
    "s = list(map(lambda nm : nm**2,num))\n",
    "print(s)"
   ]
  },
  {
   "cell_type": "code",
   "execution_count": 115,
   "metadata": {},
   "outputs": [
    {
     "name": "stdout",
     "output_type": "stream",
     "text": [
      "[0, 0]\n",
      "[1, 1]\n",
      "[4, 8]\n",
      "[9, 27]\n",
      "[16, 64]\n"
     ]
    }
   ],
   "source": [
    "def suare(a):\n",
    "    return a*a\n",
    "def cube(a):\n",
    "    return a*a*a\n",
    "func = [suare,cube]\n",
    "for i in range(5):\n",
    "    val = list(map(lambda x:x(i),func))\n",
    "    print(val)"
   ]
  },
  {
   "cell_type": "markdown",
   "metadata": {},
   "source": [
    "<h1> Filter</h1>"
   ]
  },
  {
   "cell_type": "code",
   "execution_count": 116,
   "metadata": {},
   "outputs": [
    {
     "name": "stdout",
     "output_type": "stream",
     "text": [
      "[12, 765, 23]\n"
     ]
    }
   ],
   "source": [
    "def grt(nm):\n",
    "    return nm>5\n",
    "\n",
    "lst = [2,3,4,5,12,3,765,23]\n",
    "\n",
    "result = list(filter(grt,lst))\n",
    "print(result)"
   ]
  },
  {
   "cell_type": "markdown",
   "metadata": {},
   "source": [
    "<h1>Reduce</h1>"
   ]
  },
  {
   "cell_type": "code",
   "execution_count": 134,
   "metadata": {},
   "outputs": [],
   "source": [
    "from functools import reduce\n",
    "lst = [2,3,4,5,10]"
   ]
  },
  {
   "cell_type": "code",
   "execution_count": 132,
   "metadata": {},
   "outputs": [
    {
     "name": "stdout",
     "output_type": "stream",
     "text": [
      "14\n"
     ]
    }
   ],
   "source": [
    "num=0\n",
    "for i in lst:\n",
    "    num = num+i\n",
    "print(num)"
   ]
  },
  {
   "cell_type": "code",
   "execution_count": 135,
   "metadata": {},
   "outputs": [
    {
     "name": "stdout",
     "output_type": "stream",
     "text": [
      "24\n"
     ]
    }
   ],
   "source": [
    "nm = reduce(lambda x,y:x+y, lst)\n",
    "print(nm)"
   ]
  },
  {
   "cell_type": "markdown",
   "metadata": {},
   "source": [
    "<h1> Decorators</h1>"
   ]
  },
  {
   "cell_type": "code",
   "execution_count": 1,
   "metadata": {},
   "outputs": [
    {
     "name": "stdout",
     "output_type": "stream",
     "text": [
      "<class 'int'>\n"
     ]
    }
   ],
   "source": [
    "def funcret(num):\n",
    "    if num==0:\n",
    "        return print\n",
    "    if num==1:\n",
    "        return int\n",
    "\n",
    "a= funcret(1)\n",
    "print(a)"
   ]
  },
  {
   "cell_type": "code",
   "execution_count": 3,
   "metadata": {},
   "outputs": [
    {
     "name": "stdout",
     "output_type": "stream",
     "text": [
      "Excecuting Now\n",
      "New Function Execute\n",
      "Excecuted Func1\n"
     ]
    }
   ],
   "source": [
    "def dec1(func1):\n",
    "    def nowexec():\n",
    "        print('Excecuting Now')\n",
    "        func1()\n",
    "        print('Excecuted Func1')\n",
    "    return nowexec\n",
    "\n",
    "def newfunc():\n",
    "    print(\"New Function Execute\")\n",
    "\n",
    "newfunc = dec1(newfunc)\n",
    "newfunc()"
   ]
  },
  {
   "cell_type": "code",
   "execution_count": 7,
   "metadata": {},
   "outputs": [
    {
     "name": "stdout",
     "output_type": "stream",
     "text": [
      "Execution Of Nowexec Start\n",
      " New Function Execute\n",
      "End Nowexec\n"
     ]
    }
   ],
   "source": [
    "def dec1(func1):\n",
    "    def nowexec():\n",
    "        print('Execution Of Nowexec Start')\n",
    "        func1()\n",
    "        print('End Nowexec')\n",
    "    return nowexec\n",
    "\n",
    "@dec1\n",
    "def newfunc():\n",
    "    print(' New Function Execute')\n",
    "newfunc()"
   ]
  },
  {
   "cell_type": "code",
   "execution_count": 8,
   "metadata": {},
   "outputs": [
    {
     "name": "stdout",
     "output_type": "stream",
     "text": [
      "New Function Execute\n"
     ]
    }
   ],
   "source": [
    "def newfunc():\n",
    "    print('New Function Execute')\n",
    "newfunc()"
   ]
  },
  {
   "cell_type": "markdown",
   "metadata": {},
   "source": [
    "# OOPS"
   ]
  },
  {
   "cell_type": "code",
   "execution_count": 10,
   "metadata": {},
   "outputs": [
    {
     "name": "stdout",
     "output_type": "stream",
     "text": [
      "Harry\n"
     ]
    }
   ],
   "source": [
    "class Student:\n",
    "    pass\n",
    "\n",
    "harry = Student() # Create Object\n",
    "lerry = Student()\n",
    "\n",
    "harry.name = 'Harry' # Create Instance variable \n",
    "\n",
    "print(harry.name)"
   ]
  },
  {
   "cell_type": "code",
   "execution_count": 15,
   "metadata": {},
   "outputs": [
    {
     "name": "stdout",
     "output_type": "stream",
     "text": [
      "11\n",
      "12\n",
      "vaghela\n",
      "12\n",
      "{'surname': 'vaghela'}\n"
     ]
    }
   ],
   "source": [
    "class Student:\n",
    "    std=12 #class variable\n",
    "\n",
    "ullash = Student()\n",
    "ravi = Student()\n",
    "\n",
    "ullash.surname= 'vaghela'\n",
    "harry.surname= 'patel'\n",
    "\n",
    "harry.std=11 #instance variable\n",
    "print(harry.std) # print instance variable\n",
    "print(ullash.std)\n",
    "print(ullash.surname)\n",
    "print(Student.std) #Print class variable, it's common for ullash and harry\n",
    "print(ullash.__dict__)\n",
    "\n",
    "#"
   ]
  },
  {
   "cell_type": "code",
   "execution_count": 19,
   "metadata": {},
   "outputs": [
    {
     "name": "stdout",
     "output_type": "stream",
     "text": [
      "Name is Harry and Salary is 5200\n",
      "Name is Ullash and Salary is 453\n"
     ]
    }
   ],
   "source": [
    "class Employee:\n",
    "    no_of_leaves=8\n",
    "    def printdetails(self):\n",
    "        return f\"Name is {self.name} and Salary is {self.salary}\"\n",
    "\n",
    "harry = Employee()\n",
    "ullash = Employee()\n",
    "\n",
    "ullash.name = 'Ullash'\n",
    "ullash.salary = 453\n",
    "\n",
    "harry.name = 'Harry'\n",
    "harry.salary = 5200\n",
    "\n",
    "print(harry.printdetails())\n",
    "print(ullash.printdetails())"
   ]
  },
  {
   "cell_type": "code",
   "execution_count": 28,
   "metadata": {},
   "outputs": [
    {
     "name": "stdout",
     "output_type": "stream",
     "text": [
      "Name is Harry and Salary is 555\n",
      "Name is Ullash and Salary is 555\n"
     ]
    }
   ],
   "source": [
    "class Employee:\n",
    "    no_of_leaves=8\n",
    "    def __init__(self,arg_name,arg_salary):\n",
    "        self.name = arg_name\n",
    "        self.salary = arg_salary\n",
    "        \n",
    "    def printdetails(self):\n",
    "        return f\"Name is {self.name} and Salary is {self.salary}\"\n",
    "\n",
    "harry = Employee('Harry',555)\n",
    "ullash = Employee('Ullash',555)\n",
    "\n",
    "print(harry.printdetails())\n",
    "print(ullash.printdetails())"
   ]
  },
  {
   "cell_type": "markdown",
   "metadata": {},
   "source": [
    "# Class Method as Alternative Constructor"
   ]
  },
  {
   "cell_type": "code",
   "execution_count": 17,
   "metadata": {},
   "outputs": [
    {
     "name": "stdout",
     "output_type": "stream",
     "text": [
      "Name is Ullash and Age is 28 and Std is 12\n",
      "Name is Harry and Age is 32 and Std is 12\n",
      "11\n",
      "11\n"
     ]
    }
   ],
   "source": [
    "class Student:\n",
    "    std = 12\n",
    "    def __init__(self,name,age):\n",
    "        self.name = name\n",
    "        self.age = age\n",
    "    def printdetail(self):\n",
    "        return f\"Name is {self.name} and Age is {self.age} and Std is {self.std}\"\n",
    "    \n",
    "    @classmethod\n",
    "    def chng_std(cls,new_std):\n",
    "        cls.std=new_std\n",
    "        \n",
    "ullash = Student('Ullash',28)\n",
    "harry = Student('Harry',32)\n",
    "\n",
    "print(ullash.printdetail())\n",
    "print(harry.printdetail())\n",
    "\n",
    "harry.chng_std(11)\n",
    "print(harry.std)\n",
    "print(Student.std)"
   ]
  },
  {
   "cell_type": "code",
   "execution_count": 29,
   "metadata": {},
   "outputs": [
    {
     "name": "stdout",
     "output_type": "stream",
     "text": [
      "26\n",
      "12\n"
     ]
    }
   ],
   "source": [
    "class Student:\n",
    "    std = 12\n",
    "    def __init__(self,name,age):\n",
    "        self.name = name\n",
    "        self.age = age\n",
    "    def printdetail(self):\n",
    "        return f\"Name is {self.name} and Age is {self.age} and Std is {self.std}\"\n",
    "    \n",
    "    @classmethod\n",
    "    def chng_std(cls,new_std):\n",
    "        cls.std=new_std\n",
    "        \n",
    "    @classmethod\n",
    "    def from_str(cls,string):\n",
    "        return cls(*string.split('-'))\n",
    "        #param = string.split('-')\n",
    "        #return cls(param[0],param[1])\n",
    "        \n",
    "        \n",
    "        \n",
    "ullash = Student('Ullash',28)\n",
    "harry = Student('Harry',32)\n",
    "karan = Student.from_str('Karan-26') #Argument as String and String Create for Object\n",
    "\n",
    "print(karan.age)\n",
    "print(karan.std)"
   ]
  },
  {
   "cell_type": "markdown",
   "metadata": {},
   "source": [
    "# static method"
   ]
  },
  {
   "cell_type": "code",
   "execution_count": 52,
   "metadata": {},
   "outputs": [
    {
     "name": "stdout",
     "output_type": "stream",
     "text": [
      "My New Name is Ullash Vaghela\n",
      "My New Name is asdf\n",
      "Ullash\n"
     ]
    }
   ],
   "source": [
    "class Student:\n",
    "    def __init__(self,name,age):\n",
    "        self.name = name\n",
    "        self.age = age\n",
    "    def detail(self):\n",
    "        return f\"My Name is {self.name} and I am {self.age} yr old\"\n",
    "    \n",
    "    @staticmethod\n",
    "    def newdetail(string):\n",
    "        return f\"My New Name is {string}\"\n",
    "    \n",
    "ullash = Student('Ullash',28)\n",
    "harry = Student('Harry',32)\n",
    "    \n",
    "print(ullash.newdetail('Ullash Vaghela'))\n",
    "print(Student.newdetail('asdf'))\n",
    "print(ullash.name)"
   ]
  },
  {
   "cell_type": "markdown",
   "metadata": {},
   "source": [
    "# Inheritance\n",
    "\n",
    "#  1) single Inheritance"
   ]
  },
  {
   "cell_type": "code",
   "execution_count": 9,
   "metadata": {},
   "outputs": [
    {
     "name": "stdout",
     "output_type": "stream",
     "text": [
      "My Name id Ullash\n",
      "12\n",
      "11\n",
      "Ravi Know ['c', 'cpp', 'python']\n"
     ]
    }
   ],
   "source": [
    "class Student:\n",
    "    std = 12\n",
    "    def __init__(self,name,age):\n",
    "        self.name = name\n",
    "        self.age = age\n",
    "    \n",
    "    def printdetails(self):\n",
    "        return f\"My Name id {self.name}\"\n",
    "    \n",
    "    @classmethod\n",
    "    def newstd(cls,nstd):\n",
    "        cls.std=nstd\n",
    "\n",
    "#####################################\n",
    "# Inheritance - Single\n",
    "class Programmer(Student):\n",
    "    def __init__(self,name,age,lg):\n",
    "        self.name = name\n",
    "        self.age = age\n",
    "        self.lg = lg\n",
    "    def prgdetail(self):\n",
    "        return f\"{self.name} Know {self.lg}\"\n",
    "\n",
    "####################################\n",
    "ullash = Student('Ullash',28)\n",
    "harry = Student('Harry',30)\n",
    "\n",
    "ravi = Programmer('Ravi',28,['c','cpp','python'])\n",
    "print(ullash.printdetails())\n",
    "print(ullash.std)\n",
    "ullash.newstd(11)\n",
    "print(ullash.std)\n",
    "print(ravi.prgdetail())"
   ]
  },
  {
   "cell_type": "code",
   "execution_count": 45,
   "metadata": {},
   "outputs": [
    {
     "name": "stdout",
     "output_type": "stream",
     "text": [
      "Ravi like to paly ['Cricket', 'Football']\n",
      "My Name is Ullash and I am 27yr old\n"
     ]
    },
    {
     "ename": "AttributeError",
     "evalue": "'Programmer' object has no attribute 'games'",
     "output_type": "error",
     "traceback": [
      "\u001b[1;31m---------------------------------------------------------------------------\u001b[0m",
      "\u001b[1;31mAttributeError\u001b[0m                            Traceback (most recent call last)",
      "\u001b[1;32m<ipython-input-45-afaa21422672>\u001b[0m in \u001b[0;36m<module>\u001b[1;34m\u001b[0m\n\u001b[0;32m     35\u001b[0m \u001b[0mprint\u001b[0m\u001b[1;33m(\u001b[0m\u001b[0mravi\u001b[0m\u001b[1;33m.\u001b[0m\u001b[0mempgmdetail\u001b[0m\u001b[1;33m(\u001b[0m\u001b[1;33m)\u001b[0m\u001b[1;33m)\u001b[0m\u001b[1;33m\u001b[0m\u001b[1;33m\u001b[0m\u001b[0m\n\u001b[0;32m     36\u001b[0m \u001b[0mprint\u001b[0m\u001b[1;33m(\u001b[0m\u001b[0mullash\u001b[0m\u001b[1;33m.\u001b[0m\u001b[0mempdetail\u001b[0m\u001b[1;33m(\u001b[0m\u001b[1;33m)\u001b[0m\u001b[1;33m)\u001b[0m\u001b[1;33m\u001b[0m\u001b[1;33m\u001b[0m\u001b[0m\n\u001b[1;32m---> 37\u001b[1;33m \u001b[0mprint\u001b[0m\u001b[1;33m(\u001b[0m\u001b[0mjitu\u001b[0m\u001b[1;33m.\u001b[0m\u001b[0mempgmdetail\u001b[0m\u001b[1;33m(\u001b[0m\u001b[1;33m)\u001b[0m\u001b[1;33m)\u001b[0m\u001b[1;33m\u001b[0m\u001b[1;33m\u001b[0m\u001b[0m\n\u001b[0m",
      "\u001b[1;32m<ipython-input-45-afaa21422672>\u001b[0m in \u001b[0;36mempgmdetail\u001b[1;34m(self)\u001b[0m\n\u001b[0;32m     16\u001b[0m         \u001b[0mself\u001b[0m\u001b[1;33m.\u001b[0m\u001b[0mgames\u001b[0m \u001b[1;33m=\u001b[0m \u001b[0mgames\u001b[0m\u001b[1;33m\u001b[0m\u001b[1;33m\u001b[0m\u001b[0m\n\u001b[0;32m     17\u001b[0m     \u001b[1;32mdef\u001b[0m \u001b[0mempgmdetail\u001b[0m\u001b[1;33m(\u001b[0m\u001b[0mself\u001b[0m\u001b[1;33m)\u001b[0m\u001b[1;33m:\u001b[0m\u001b[1;33m\u001b[0m\u001b[1;33m\u001b[0m\u001b[0m\n\u001b[1;32m---> 18\u001b[1;33m         \u001b[1;32mreturn\u001b[0m \u001b[1;34mf'{self.name} like to paly {self.games}'\u001b[0m\u001b[1;33m\u001b[0m\u001b[1;33m\u001b[0m\u001b[0m\n\u001b[0m\u001b[0;32m     19\u001b[0m \u001b[1;33m\u001b[0m\u001b[0m\n\u001b[0;32m     20\u001b[0m \u001b[1;32mclass\u001b[0m \u001b[0mProgrammer\u001b[0m\u001b[1;33m(\u001b[0m\u001b[0mEmployee\u001b[0m\u001b[1;33m,\u001b[0m\u001b[0mPlayer\u001b[0m\u001b[1;33m)\u001b[0m\u001b[1;33m:\u001b[0m\u001b[1;33m\u001b[0m\u001b[1;33m\u001b[0m\u001b[0m\n",
      "\u001b[1;31mAttributeError\u001b[0m: 'Programmer' object has no attribute 'games'"
     ]
    }
   ],
   "source": [
    "class Employee:\n",
    "    no_of_leaves = 10\n",
    "    def __init__(self,name,age):\n",
    "        self.name = name\n",
    "        self.age = age\n",
    "    def empdetail(self):\n",
    "        return f'My Name is {self.name} and I am {self.age}yr old'\n",
    "    @classmethod\n",
    "    def newleaves(cls,newleave):\n",
    "        cls.no_of_leaves = newleave\n",
    "\n",
    "class Player:\n",
    "    no_of_leaves = 15\n",
    "    def __init__(self,name,games):\n",
    "        self.name = name\n",
    "        self.games = games\n",
    "    def empgmdetail(self):\n",
    "        return f'{self.name} like to paly {self.games}'\n",
    "\n",
    "class Programmer(Employee,Player):\n",
    "    language = \"C++\"\n",
    "    def printlanguage(self):\n",
    "        print(self.language)\n",
    "    \n",
    "ullash = Employee('Ullash',27)\n",
    "harry = Employee('Harry',32)\n",
    "\n",
    "ravi = Player('Ravi',['Cricket','Football'])\n",
    "jitu = Programmer('Jitu',['Cricket'])\n",
    "\n",
    "#harry.newleaves(12)\n",
    "#print(ullash.no_of_leaves)\n",
    "#print(ullash.empdetail())\n",
    "\n",
    "print(ravi.empgmdetail())\n",
    "print(ullash.empdetail())\n",
    "print(jitu.empgmdetail())"
   ]
  },
  {
   "cell_type": "code",
   "execution_count": null,
   "metadata": {},
   "outputs": [],
   "source": []
  }
 ],
 "metadata": {
  "kernelspec": {
   "display_name": "Python 3",
   "language": "python",
   "name": "python3"
  },
  "language_info": {
   "codemirror_mode": {
    "name": "ipython",
    "version": 3
   },
   "file_extension": ".py",
   "mimetype": "text/x-python",
   "name": "python",
   "nbconvert_exporter": "python",
   "pygments_lexer": "ipython3",
   "version": "3.7.4"
  }
 },
 "nbformat": 4,
 "nbformat_minor": 2
}
